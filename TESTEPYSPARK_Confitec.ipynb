{
  "nbformat": 4,
  "nbformat_minor": 0,
  "metadata": {
    "colab": {
      "provenance": [],
      "collapsed_sections": [
        "8yWJY10GerDt"
      ],
      "toc_visible": true,
      "authorship_tag": "ABX9TyPKe+SGw6YwXkifWI/MMw2G",
      "include_colab_link": true
    },
    "kernelspec": {
      "name": "python3",
      "display_name": "Python 3"
    },
    "language_info": {
      "name": "python"
    }
  },
  "cells": [
    {
      "cell_type": "markdown",
      "metadata": {
        "id": "view-in-github",
        "colab_type": "text"
      },
      "source": [
        "<a href=\"https://colab.research.google.com/github/ZaatarX/TESTEPYSPARK-Confitec/blob/main/TESTEPYSPARK_Confitec.ipynb\" target=\"_parent\"><img src=\"https://colab.research.google.com/assets/colab-badge.svg\" alt=\"Open In Colab\"/></a>"
      ]
    },
    {
      "cell_type": "markdown",
      "source": [
        "# Teste 1"
      ],
      "metadata": {
        "id": "nDl0nwMwaEEE"
      }
    },
    {
      "cell_type": "markdown",
      "source": [
        "## Instalando Spark"
      ],
      "metadata": {
        "id": "VCRlzZ4SaUa5"
      }
    },
    {
      "cell_type": "code",
      "source": [
        "!pip install pyspark==3.3.1"
      ],
      "metadata": {
        "colab": {
          "base_uri": "https://localhost:8080/"
        },
        "id": "54E_BYJOacEZ",
        "outputId": "2a631583-af39-40cb-ccb1-b2405f53a3d9"
      },
      "execution_count": 1,
      "outputs": [
        {
          "output_type": "stream",
          "name": "stdout",
          "text": [
            "Looking in indexes: https://pypi.org/simple, https://us-python.pkg.dev/colab-wheels/public/simple/\n",
            "Collecting pyspark==3.3.1\n",
            "  Downloading pyspark-3.3.1.tar.gz (281.4 MB)\n",
            "\u001b[2K     \u001b[90m━━━━━━━━━━━━━━━━━━━━━━━━━━━━━━━━━━━━━━━\u001b[0m \u001b[32m281.4/281.4 MB\u001b[0m \u001b[31m4.6 MB/s\u001b[0m eta \u001b[36m0:00:00\u001b[0m\n",
            "\u001b[?25h  Preparing metadata (setup.py) ... \u001b[?25l\u001b[?25hdone\n",
            "Collecting py4j==0.10.9.5 (from pyspark==3.3.1)\n",
            "  Downloading py4j-0.10.9.5-py2.py3-none-any.whl (199 kB)\n",
            "\u001b[2K     \u001b[90m━━━━━━━━━━━━━━━━━━━━━━━━━━━━━━━━━━━━━━\u001b[0m \u001b[32m199.7/199.7 kB\u001b[0m \u001b[31m11.6 MB/s\u001b[0m eta \u001b[36m0:00:00\u001b[0m\n",
            "\u001b[?25hBuilding wheels for collected packages: pyspark\n",
            "  Building wheel for pyspark (setup.py) ... \u001b[?25l\u001b[?25hdone\n",
            "  Created wheel for pyspark: filename=pyspark-3.3.1-py2.py3-none-any.whl size=281845500 sha256=898df8f7ef76942500335f361cec064b94ba9f9bfcf46a0fbf06c12c154d5143\n",
            "  Stored in directory: /root/.cache/pip/wheels/0f/f0/3d/517368b8ce80486e84f89f214e0a022554e4ee64969f46279b\n",
            "Successfully built pyspark\n",
            "Installing collected packages: py4j, pyspark\n",
            "  Attempting uninstall: py4j\n",
            "    Found existing installation: py4j 0.10.9.7\n",
            "    Uninstalling py4j-0.10.9.7:\n",
            "      Successfully uninstalled py4j-0.10.9.7\n",
            "Successfully installed py4j-0.10.9.5 pyspark-3.3.1\n"
          ]
        }
      ]
    },
    {
      "cell_type": "code",
      "source": [
        "!apt-get install openjdk-8-jdk-headless -qq > /dev/null"
      ],
      "metadata": {
        "id": "ufvMs4GpafjM"
      },
      "execution_count": 2,
      "outputs": []
    },
    {
      "cell_type": "code",
      "source": [
        "!wget -q https://dlcdn.apache.org/spark/spark-3.3.2/spark-3.3.2-bin-hadoop3.tgz"
      ],
      "metadata": {
        "id": "SKBt3zUDajCT"
      },
      "execution_count": 3,
      "outputs": []
    },
    {
      "cell_type": "code",
      "source": [
        "!tar xf spark-3.3.2-bin-hadoop3.tgz"
      ],
      "metadata": {
        "id": "OmmMDoCwak-I"
      },
      "execution_count": 5,
      "outputs": []
    },
    {
      "cell_type": "code",
      "source": [
        "!pip install -q findspark"
      ],
      "metadata": {
        "id": "OVBAzhMCamnV"
      },
      "execution_count": 6,
      "outputs": []
    },
    {
      "cell_type": "markdown",
      "source": [
        "## OS Var"
      ],
      "metadata": {
        "id": "waZUk0vxat6P"
      }
    },
    {
      "cell_type": "code",
      "source": [
        "import os"
      ],
      "metadata": {
        "id": "DRyFi5_MaxHv"
      },
      "execution_count": 7,
      "outputs": []
    },
    {
      "cell_type": "code",
      "source": [
        "os.environ[\"JAVA_HOME\"] = \"/usr/lib/jvm/java-8-openjdk-amd64\""
      ],
      "metadata": {
        "id": "JyaEfet9azPW"
      },
      "execution_count": 8,
      "outputs": []
    },
    {
      "cell_type": "code",
      "source": [
        "os.environ[\"SPARK_HOME\"] = \"/content/spark-3.3.2-bin-hadoop3\""
      ],
      "metadata": {
        "id": "6ZpjqlSJa0oV"
      },
      "execution_count": 9,
      "outputs": []
    },
    {
      "cell_type": "markdown",
      "source": [
        "## Iniciando Spark"
      ],
      "metadata": {
        "id": "4Agwlhlea9wj"
      }
    },
    {
      "cell_type": "code",
      "source": [
        "from pyspark.sql import SparkSession"
      ],
      "metadata": {
        "id": "Ax93tYCXbAXl"
      },
      "execution_count": 10,
      "outputs": []
    },
    {
      "cell_type": "code",
      "source": [
        "spark = SparkSession.builder \\\n",
        "    .master('local[*]') \\\n",
        "    .appName('Starting Spark') \\\n",
        "    .config('spark.ui.port', '4050') \\\n",
        "    .getOrCreate()"
      ],
      "metadata": {
        "id": "cSqcimNGbCBJ"
      },
      "execution_count": 11,
      "outputs": []
    },
    {
      "cell_type": "code",
      "source": [
        "spark"
      ],
      "metadata": {
        "colab": {
          "base_uri": "https://localhost:8080/",
          "height": 219
        },
        "id": "9Jw86qZDbDUP",
        "outputId": "b9ffa44b-002f-480e-d980-335a17ca2184"
      },
      "execution_count": 12,
      "outputs": [
        {
          "output_type": "execute_result",
          "data": {
            "text/plain": [
              "<pyspark.sql.session.SparkSession at 0x7ff4a4423fd0>"
            ],
            "text/html": [
              "\n",
              "            <div>\n",
              "                <p><b>SparkSession - in-memory</b></p>\n",
              "                \n",
              "        <div>\n",
              "            <p><b>SparkContext</b></p>\n",
              "\n",
              "            <p><a href=\"http://ac82a2399561:4050\">Spark UI</a></p>\n",
              "\n",
              "            <dl>\n",
              "              <dt>Version</dt>\n",
              "                <dd><code>v3.3.2</code></dd>\n",
              "              <dt>Master</dt>\n",
              "                <dd><code>local[*]</code></dd>\n",
              "              <dt>AppName</dt>\n",
              "                <dd><code>Starting Spark</code></dd>\n",
              "            </dl>\n",
              "        </div>\n",
              "        \n",
              "            </div>\n",
              "        "
            ]
          },
          "metadata": {},
          "execution_count": 12
        }
      ]
    },
    {
      "cell_type": "markdown",
      "source": [
        "## Abrindo Arquivo de Parquet"
      ],
      "metadata": {
        "id": "E2_qihDpbOEK"
      }
    },
    {
      "cell_type": "code",
      "source": [
        "from google.colab import drive\n",
        "drive.mount('/content/drive')"
      ],
      "metadata": {
        "colab": {
          "base_uri": "https://localhost:8080/"
        },
        "id": "ZPbUVaT9eDvv",
        "outputId": "0ed58362-77e4-49e2-8269-4db12021a691"
      },
      "execution_count": 14,
      "outputs": [
        {
          "output_type": "stream",
          "name": "stdout",
          "text": [
            "Mounted at /content/drive\n"
          ]
        }
      ]
    },
    {
      "cell_type": "code",
      "source": [
        "confitec_test = spark.read.parquet(\n",
        "    '/content/drive/MyDrive/confitec/parquet'\n",
        ")"
      ],
      "metadata": {
        "id": "KEcAWOUtbRy0"
      },
      "execution_count": 22,
      "outputs": []
    },
    {
      "cell_type": "code",
      "source": [
        "confitec_test.printSchema()"
      ],
      "metadata": {
        "colab": {
          "base_uri": "https://localhost:8080/"
        },
        "id": "j4LMeg4xbrAj",
        "outputId": "c03c0600-a74b-4ee3-fa79-0a382444294d"
      },
      "execution_count": 23,
      "outputs": [
        {
          "output_type": "stream",
          "name": "stdout",
          "text": [
            "root\n",
            " |-- Title: string (nullable = true)\n",
            " |-- Genre: string (nullable = true)\n",
            " |-- GenreLabels: string (nullable = true)\n",
            " |-- Premiere: string (nullable = true)\n",
            " |-- Seasons: string (nullable = true)\n",
            " |-- SeasonsParsed: long (nullable = true)\n",
            " |-- EpisodesParsed: long (nullable = true)\n",
            " |-- Length: string (nullable = true)\n",
            " |-- MinLength: long (nullable = true)\n",
            " |-- MaxLength: long (nullable = true)\n",
            " |-- Status: string (nullable = true)\n",
            " |-- Active: long (nullable = true)\n",
            " |-- Table: string (nullable = true)\n",
            " |-- Language: string (nullable = true)\n",
            " |-- dt_inclusao: string (nullable = true)\n",
            "\n"
          ]
        }
      ]
    },
    {
      "cell_type": "code",
      "source": [
        "confitec_test.show()"
      ],
      "metadata": {
        "colab": {
          "base_uri": "https://localhost:8080/"
        },
        "id": "PcoaA1dxfdG3",
        "outputId": "09eb7bc3-747f-4e40-be24-56c94b8de6eb"
      },
      "execution_count": 47,
      "outputs": [
        {
          "output_type": "stream",
          "name": "stdout",
          "text": [
            "+--------------------+--------------------+--------------------+---------+--------------------+-------------+--------------+-----------+---------+---------+----------+------+-----+--------+--------------------+\n",
            "|               Title|               Genre|         GenreLabels| Premiere|             Seasons|SeasonsParsed|EpisodesParsed|     Length|MinLength|MaxLength|    Status|Active|Table|Language|         dt_inclusao|\n",
            "+--------------------+--------------------+--------------------+---------+--------------------+-------------+--------------+-----------+---------+---------+----------+------+-----+--------+--------------------+\n",
            "|      House of Cards|     Political drama|     political,drama| 1-Feb-13|6 seasons, 73 epi...|            6|            73| 42–59 min.|       42|       59|     Ended|     0|Drama| English|2021-03-16T21:20:...|\n",
            "|       Hemlock Grove|     Horror/thriller|     horror,thriller|19-Apr-13|3 seasons, 33 epi...|            3|            33| 45–58 min.|       45|       58|     Ended|     0|Drama| English|2021-03-16T21:20:...|\n",
            "|Orange Is the New...|        Comedy-drama|        comedy-drama|11-Jul-13|6 seasons, 78 epi...|            6|            78| 50–92 min.|       50|       92|   Renewed|     1|Drama| English|2021-03-16T21:20:...|\n",
            "|          Marco Polo|    Historical drama|    historical,drama|12-Dec-14|2 seasons, 20 epi...|            2|            20| 48–65 min.|       48|       65|     Ended|     0|Drama| English|2021-03-16T21:20:...|\n",
            "|           Bloodline|            Thriller|            thriller|20-Mar-15|3 seasons, 33 epi...|            3|            33| 48–68 min.|       48|       68|     Ended|     0|Drama| English|2021-03-16T21:20:...|\n",
            "|              Sense8|     Science fiction|     science-fiction| 5-Jun-15|2 seasons, 24 epi...|            2|            24|45–152 min.|       45|      152|     Ended|     0|Drama| English|2021-03-16T21:20:...|\n",
            "|              Narcos|         Crime drama|         crime,drama|28-Aug-15|3 seasons, 30 epi...|            3|            30| 43–60 min.|       43|       60|     Ended|     0|Drama| English|2021-03-16T21:20:...|\n",
            "|     Stranger Things|Science fiction/h...|science-fiction,h...|15-Jul-16|2 seasons, 17 epi...|            2|            17| 42–62 min.|       42|       62|   Renewed|     1|Drama| English|2021-03-16T21:20:...|\n",
            "|        The Get Down|       Musical drama|       musical,drama|12-Aug-16|2 parts, 11 episodes|            0|            11| 50–93 min.|       50|       93|     Ended|     0|Drama| English|2021-03-16T21:20:...|\n",
            "|           The Crown|    Historical drama|    historical,drama| 4-Nov-16|2 seasons, 20 epi...|            2|            20| 54–61 min.|       54|       61|   Renewed|     1|Drama| English|2021-03-16T21:20:...|\n",
            "|Gilmore Girls: A ...|        Family drama|        family,drama|25-Nov-16|          4 episodes|            0|             4|88–102 min.|       88|      102|Miniseries|     0|Drama| English|2021-03-16T21:20:...|\n",
            "|              The OA|             Mystery|             mystery|16-Dec-16|2 parts, 16 episodes|            0|            16| 31–71 min.|       31|       71|   Pending|     1|Drama| English|2021-03-16T21:20:...|\n",
            "|A Series of Unfor...|Black-comedy mystery|black-comedy,mystery|13-Jan-17|3 seasons, 25 epi...|            3|            25| 36–64 min.|       36|       64|     Ended|     0|Drama| English|2021-03-16T21:20:...|\n",
            "|      13 Reasons Why|  Teen drama/mystery|  teen,drama,mystery|31-Mar-17|2 seasons, 26 epi...|            2|            26| 49–70 min.|       49|       70|   Renewed|     1|Drama| English|2021-03-16T21:20:...|\n",
            "|               Gypsy|Psychological thr...|psychological,thr...|30-Jun-17|1 season, 10 epis...|            1|            10| 46–58 min.|       46|       58|     Ended|     0|Drama| English|2021-03-16T21:20:...|\n",
            "|               Ozark|         Crime drama|         crime,drama|21-Jul-17|2 seasons, 20 epi...|            2|            20| 52–80 min.|       52|       80|   Renewed|     1|Drama| English|2021-03-16T21:20:...|\n",
            "|          Mindhunter|         Crime drama|         crime,drama|13-Oct-17|1 season, 10 epis...|            1|            10| 34–60 min.|       34|       60|   Renewed|     1|Drama| English|2021-03-16T21:20:...|\n",
            "|             Godless|             Western|             western|22-Nov-17|          7 episodes|            0|             7| 41–80 min.|       41|       80|Miniseries|     0|Drama| English|2021-03-16T21:20:...|\n",
            "|      Altered Carbon|     Science fiction|     science-fiction| 2-Feb-18|1 season, 10 epis...|            1|            10| 46–66 min.|       46|       66|   Renewed|     1|Drama| English|2021-03-16T21:20:...|\n",
            "|       Seven Seconds|         Crime drama|         crime,drama|23-Feb-18|1 season, 10 epis...|            1|            10| 54–80 min.|       54|       80|     Ended|     0|Drama| English|2021-03-16T21:20:...|\n",
            "+--------------------+--------------------+--------------------+---------+--------------------+-------------+--------------+-----------+---------+---------+----------+------+-----+--------+--------------------+\n",
            "only showing top 20 rows\n",
            "\n"
          ]
        }
      ]
    },
    {
      "cell_type": "markdown",
      "source": [
        "## 1) String para Datetime"
      ],
      "metadata": {
        "id": "8yWJY10GerDt"
      }
    },
    {
      "cell_type": "code",
      "source": [
        "from pyspark.sql.types import StringType\n",
        "from pyspark.sql import functions as f"
      ],
      "metadata": {
        "id": "lotbDRwtfJ7J"
      },
      "execution_count": 17,
      "outputs": []
    },
    {
      "cell_type": "code",
      "source": [
        "confitec_fix_dt_inclusao = confitec_test\\\n",
        "                        .withColumn(\n",
        "                            \"dt_inclusao\",\n",
        "                            f.substring(confitec_test.dt_inclusao, 0, 10)\n",
        "                        )"
      ],
      "metadata": {
        "id": "XbxR6JcFlpbV"
      },
      "execution_count": 85,
      "outputs": []
    },
    {
      "cell_type": "code",
      "source": [
        "confitec_fix_dt_inclusao.show(5)"
      ],
      "metadata": {
        "colab": {
          "base_uri": "https://localhost:8080/"
        },
        "id": "-vaxrJtsmLVs",
        "outputId": "21e16fc9-7c48-480f-d4e0-f8a8094c3cdb"
      },
      "execution_count": 87,
      "outputs": [
        {
          "output_type": "stream",
          "name": "stdout",
          "text": [
            "+--------------------+----------------+----------------+---------+--------------------+-------------+--------------+----------+---------+---------+-------+------+-----+--------+-----------+\n",
            "|               Title|           Genre|     GenreLabels| Premiere|             Seasons|SeasonsParsed|EpisodesParsed|    Length|MinLength|MaxLength| Status|Active|Table|Language|dt_inclusao|\n",
            "+--------------------+----------------+----------------+---------+--------------------+-------------+--------------+----------+---------+---------+-------+------+-----+--------+-----------+\n",
            "|      House of Cards| Political drama| political,drama| 1-Feb-13|6 seasons, 73 epi...|            6|            73|42–59 min.|       42|       59|  Ended|     0|Drama| English| 2021-03-16|\n",
            "|       Hemlock Grove| Horror/thriller| horror,thriller|19-Apr-13|3 seasons, 33 epi...|            3|            33|45–58 min.|       45|       58|  Ended|     0|Drama| English| 2021-03-16|\n",
            "|Orange Is the New...|    Comedy-drama|    comedy-drama|11-Jul-13|6 seasons, 78 epi...|            6|            78|50–92 min.|       50|       92|Renewed|     1|Drama| English| 2021-03-16|\n",
            "|          Marco Polo|Historical drama|historical,drama|12-Dec-14|2 seasons, 20 epi...|            2|            20|48–65 min.|       48|       65|  Ended|     0|Drama| English| 2021-03-16|\n",
            "|           Bloodline|        Thriller|        thriller|20-Mar-15|3 seasons, 33 epi...|            3|            33|48–68 min.|       48|       68|  Ended|     0|Drama| English| 2021-03-16|\n",
            "+--------------------+----------------+----------------+---------+--------------------+-------------+--------------+----------+---------+---------+-------+------+-----+--------+-----------+\n",
            "only showing top 5 rows\n",
            "\n"
          ]
        }
      ]
    },
    {
      "cell_type": "code",
      "source": [
        "confitec_fixed_datetime = confitec_fix_dt_inclusao\\\n",
        "                .withColumn(\n",
        "                    \"Premiere\",\n",
        "                    f.to_date(confitec_fix_dt_inclusao.Premiere\\\n",
        "                              .cast(StringType()), 'd-MMM-yy')\n",
        "                )\\\n",
        "                .withColumn(\n",
        "                    \"dt_inclusao\",\n",
        "                    f.to_date(confitec_fix_dt_inclusao.dt_inclusao\\\n",
        "                              .cast(StringType()), 'yyyy-MM-d')\n",
        "                )"
      ],
      "metadata": {
        "id": "R9wk_LJoepwS"
      },
      "execution_count": 108,
      "outputs": []
    },
    {
      "cell_type": "code",
      "source": [
        "confitec_fixed_datetime.show(5)"
      ],
      "metadata": {
        "colab": {
          "base_uri": "https://localhost:8080/"
        },
        "id": "86FqoMrQhEgv",
        "outputId": "6a1289c8-1ad1-4dfc-d138-f6f937156bc8"
      },
      "execution_count": 109,
      "outputs": [
        {
          "output_type": "stream",
          "name": "stdout",
          "text": [
            "+--------------------+----------------+----------------+----------+--------------------+-------------+--------------+----------+---------+---------+-------+------+-----+--------+-----------+\n",
            "|               Title|           Genre|     GenreLabels|  Premiere|             Seasons|SeasonsParsed|EpisodesParsed|    Length|MinLength|MaxLength| Status|Active|Table|Language|dt_inclusao|\n",
            "+--------------------+----------------+----------------+----------+--------------------+-------------+--------------+----------+---------+---------+-------+------+-----+--------+-----------+\n",
            "|      House of Cards| Political drama| political,drama|2013-02-01|6 seasons, 73 epi...|            6|            73|42–59 min.|       42|       59|  Ended|     0|Drama| English| 2021-03-16|\n",
            "|       Hemlock Grove| Horror/thriller| horror,thriller|2013-04-19|3 seasons, 33 epi...|            3|            33|45–58 min.|       45|       58|  Ended|     0|Drama| English| 2021-03-16|\n",
            "|Orange Is the New...|    Comedy-drama|    comedy-drama|2013-07-11|6 seasons, 78 epi...|            6|            78|50–92 min.|       50|       92|Renewed|     1|Drama| English| 2021-03-16|\n",
            "|          Marco Polo|Historical drama|historical,drama|2014-12-12|2 seasons, 20 epi...|            2|            20|48–65 min.|       48|       65|  Ended|     0|Drama| English| 2021-03-16|\n",
            "|           Bloodline|        Thriller|        thriller|2015-03-20|3 seasons, 33 epi...|            3|            33|48–68 min.|       48|       68|  Ended|     0|Drama| English| 2021-03-16|\n",
            "+--------------------+----------------+----------------+----------+--------------------+-------------+--------------+----------+---------+---------+-------+------+-----+--------+-----------+\n",
            "only showing top 5 rows\n",
            "\n"
          ]
        }
      ]
    },
    {
      "cell_type": "markdown",
      "source": [
        "## 2) Ordernar dados"
      ],
      "metadata": {
        "id": "uEDt4CiJnO1I"
      }
    },
    {
      "cell_type": "code",
      "source": [
        "confitec_ordered = confitec_fixed_datetime\\\n",
        "        .select(\"*\")\\\n",
        "        .orderBy(['Active', 'Genre'], ascending=[False, True])"
      ],
      "metadata": {
        "id": "EV1FYiadnT5f"
      },
      "execution_count": 114,
      "outputs": []
    },
    {
      "cell_type": "code",
      "source": [
        "confitec_ordered.show()"
      ],
      "metadata": {
        "colab": {
          "base_uri": "https://localhost:8080/"
        },
        "id": "U6cQNYv8obte",
        "outputId": "01bb24bc-4227-4d05-82aa-cab6f9cad40b"
      },
      "execution_count": 115,
      "outputs": [
        {
          "output_type": "stream",
          "name": "stdout",
          "text": [
            "+--------------------+------------------+------------------+----------+--------------------+-------------+--------------+----------+---------+---------+-------+------+---------------+--------+-----------+\n",
            "|               Title|             Genre|       GenreLabels|  Premiere|             Seasons|SeasonsParsed|EpisodesParsed|    Length|MinLength|MaxLength| Status|Active|          Table|Language|dt_inclusao|\n",
            "+--------------------+------------------+------------------+----------+--------------------+-------------+--------------+----------+---------+---------+-------+------+---------------+--------+-----------+\n",
            "|Knights of the Zo...|            Action|            action|2019-07-19|                 TBA|            0|             0|       TBA|        0|        0|Pending|     1|          Anime| English| 2021-03-16|\n",
            "|       Kengan Ashura|            Action|            action|2019-07-31|                 TBA|            0|             0|       TBA|        0|        0|Pending|     1|          Anime| English| 2021-03-16|\n",
            "|Beyond Stranger T...|         Aftershow|         aftershow|2017-10-27|1 season, 7 episodes|            1|             7|15–25 min.|       15|       25|Pending|     1|    VarietyTalk| English| 2021-03-16|\n",
            "|Love, Death & Robots|         Anthology|         anthology|2019-03-15|1 volume, 18 epis...|            0|            18| 6–17 min.|        6|       17|Renewed|     1|      Animation| English| 2021-03-16|\n",
            "|          Sugar Rush|Baking competition|baking,competition|2018-07-13|1 season, 8 episodes|            1|             8|51–55 min.|       51|       55|Renewed|     1|        Reality| English| 2021-03-16|\n",
            "|     BoJack Horseman|Black comedy-drama|black,comedy-drama|2014-08-22|5 seasons, 61 epi...|            5|            61|25–26 min.|       25|       26|Renewed|     1|      Animation| English| 2021-03-16|\n",
            "|       Dancing Queen|         Celebrity|         celebrity|2018-10-05|1 season, 8 episodes|            1|             8|38–46 min.|       38|       46|Pending|     1|        Reality| English| 2021-03-16|\n",
            "|      The Politician|            Comedy|            comedy|2019-09-27|                 TBA|            0|             0|       TBA|        0|        0|Renewed|     1|         Comedy| English| 2021-03-16|\n",
            "|          After Life|            Comedy|            comedy|2019-03-08|1 season, 6 episodes|            1|             6|25–31 min.|       25|       31|Renewed|     1|         Comedy| English| 2021-03-16|\n",
            "|                GLOW|            Comedy|            comedy|2017-06-23|2 seasons, 20 epi...|            2|            20|27–46 min.|       27|       46|Renewed|     1|         Comedy| English| 2021-03-16|\n",
            "| The Kominsky Method|            Comedy|            comedy|2018-11-16|1 season, 8 episodes|            1|             8|23–34 min.|       23|       34|Renewed|     1|         Comedy| English| 2021-03-16|\n",
            "|         It's Bruno!|            Comedy|            comedy|2019-05-17|1 season, 8 episodes|            1|             8|12–21 min.|       12|       21|Pending|     1|         Comedy| English| 2021-03-16|\n",
            "|YG Future Strateg...|            Comedy|            comedy|2018-10-05|1 season, 8 episodes|            1|             8|20–29 min.|       20|       29|Pending|     1|ForeignLanguage|  Korean| 2021-03-16|\n",
            "|       Tuca & Bertie|            Comedy|            comedy|2019-05-03|1 season, 10 epis...|            1|            10|25–26 min.|       25|       26|Pending|     1|      Animation| English| 2021-03-16|\n",
            "|  Family Reunion[64]|            Comedy|            comedy|2019-07-10|                 TBA|            0|             0|       TBA|        0|        0|Pending|     1|         Comedy| English| 2021-03-16|\n",
            "|        Russian Doll|            Comedy|            comedy|2019-02-01|1 season, 8 episodes|            1|             8|25–30 min.|       25|       30|Renewed|     1|         Comedy| English| 2021-03-16|\n",
            "|Malibu Rescue: Th...|            Comedy|            comedy|2019-06-03|1 season, 8 episodes|            1|             8|22–26 min.|       22|       26|Pending|     1|       Children| English| 2021-03-16|\n",
            "|     Turn Up Charlie|            Comedy|            comedy|2019-03-15|1 season, 8 episodes|            1|             8|25–29 min.|       25|       29|Pending|     1|         Comedy| English| 2021-03-16|\n",
            "|          Aggretsuko|            Comedy|            comedy|2018-04-20|2 seasons, 20 epi...|            2|            20|15–20 min.|       15|       20|Pending|     1|          Anime| English| 2021-03-16|\n",
            "|      Huge in France|            Comedy|            comedy|2019-04-12|1 season, 8 episodes|            1|             8|28–34 min.|       28|       34|Pending|     1|         Comedy| English| 2021-03-16|\n",
            "+--------------------+------------------+------------------+----------+--------------------+-------------+--------------+----------+---------+---------+-------+------+---------------+--------+-----------+\n",
            "only showing top 20 rows\n",
            "\n"
          ]
        }
      ]
    },
    {
      "cell_type": "markdown",
      "source": [
        "## 3) Remover Duplicados & trocar TBA"
      ],
      "metadata": {
        "id": "MnK-fweTowS5"
      }
    },
    {
      "cell_type": "code",
      "source": [
        "from pyspark.sql.functions import trim"
      ],
      "metadata": {
        "id": "Zbvzwmo_zJ7F"
      },
      "execution_count": 135,
      "outputs": []
    },
    {
      "cell_type": "code",
      "source": [
        "confitec_trim = confitec_ordered\\\n",
        "            .withColumn('Title', trim('Title'))"
      ],
      "metadata": {
        "id": "gamrwlRaytTy"
      },
      "execution_count": 139,
      "outputs": []
    },
    {
      "cell_type": "code",
      "source": [
        "confitec_distinct = confitec_trim.distinct()"
      ],
      "metadata": {
        "id": "BONNjfrCo5NK"
      },
      "execution_count": 140,
      "outputs": []
    },
    {
      "cell_type": "code",
      "source": [
        "print(f'Distinct: {confitec_distinct.count()}')\n",
        "print(f'Duplicates: {confitec_ordered.count()}')"
      ],
      "metadata": {
        "colab": {
          "base_uri": "https://localhost:8080/"
        },
        "id": "LM2zdjjMpxZk",
        "outputId": "52bcb6b4-5d5b-4966-b8ab-151104bd01c5"
      },
      "execution_count": 141,
      "outputs": [
        {
          "output_type": "stream",
          "name": "stdout",
          "text": [
            "Distinct: 358\n",
            "Duplicates: 358\n"
          ]
        }
      ]
    },
    {
      "cell_type": "code",
      "source": [
        "from pyspark.sql.functions import regexp_replace"
      ],
      "metadata": {
        "id": "sQHOUyUsr_2A"
      },
      "execution_count": 120,
      "outputs": []
    },
    {
      "cell_type": "code",
      "source": [
        "confitec_seasons = confitec_distinct\\\n",
        "            .withColumn(\n",
        "                'Seasons', regexp_replace('Seasons', 'TBA', 'a ser anunciado')\n",
        "            )"
      ],
      "metadata": {
        "id": "5WCDqPCurV5e"
      },
      "execution_count": 121,
      "outputs": []
    },
    {
      "cell_type": "code",
      "source": [
        "confitec_seasons.show()"
      ],
      "metadata": {
        "colab": {
          "base_uri": "https://localhost:8080/"
        },
        "id": "wMFesZ2HsRVl",
        "outputId": "950891bc-62ca-4243-add5-8faa1e2b776e"
      },
      "execution_count": 125,
      "outputs": [
        {
          "output_type": "stream",
          "name": "stdout",
          "text": [
            "+--------------------+--------------------+--------------------+----------+--------------------+-------------+--------------+----------+---------+---------+----------+------+---------------+----------+-----------+\n",
            "|               Title|               Genre|         GenreLabels|  Premiere|             Seasons|SeasonsParsed|EpisodesParsed|    Length|MinLength|MaxLength|    Status|Active|          Table|  Language|dt_inclusao|\n",
            "+--------------------+--------------------+--------------------+----------+--------------------+-------------+--------------+----------+---------+---------+----------+------+---------------+----------+-----------+\n",
            "|                0.03|     Science fiction|     science-fiction|2016-11-25|3 seasons, 26 epi...|            3|            26|38–51 min.|       38|       51|   Pending|     1|ForeignLanguage|Portuguese| 2021-03-16|\n",
            "|      13 Reasons Why|  Teen drama/mystery|  teen,drama,mystery|2017-03-31|2 seasons, 26 epi...|            2|            26|49–70 min.|       49|       70|   Renewed|     1|          Drama|   English| 2021-03-16|\n",
            "|13 Reasons Why: B...|           Interview|           interview|2017-03-31|2 seasons, 2 epis...|            2|             2|29–67 min.|       29|       67|   Pending|     1|     DocuSeries|   English| 2021-03-16|\n",
            "|                1983|        Spy thriller|        spy,thriller|2018-11-30|1 season, 8 episodes|            1|             8|50–63 min.|       50|       63|   Renewed|     1|ForeignLanguage|    Polish| 2021-03-16|\n",
            "|                1994|         Docu-series|         docu-series|2019-05-17|          5 episodes|            0|             5|44–52 min.|       44|       52|Miniseries|     0|     DocuSeries|   English| 2021-03-16|\n",
            "|3Below: Tales of ...| childrens-animation| childrens-animation|2018-12-21| 1 part, 13 episodes|            0|            13|23–24 min.|       23|       24|   Renewed|     1|       Children|   English| 2021-03-16|\n",
            "|          7 Days Out|         Docu-series|         docu-series|2018-12-21|1 season, 6 episodes|            1|             6|47–48 min.|       47|       48|   Pending|     1|     DocuSeries|   English| 2021-03-16|\n",
            "|             7 Seeds|     Science fiction|     science-fiction|2019-06-28|     a ser anunciado|            0|             0|       TBA|        0|        0|   Pending|     1|          Anime|   English| 2021-03-16|\n",
            "|72 Dangerous Anim...|              Nature|              nature|2018-08-10|1 season, 12 epis...|            1|            12|44–48 min.|       44|       48|   Pending|     1|     DocuSeries|   English| 2021-03-16|\n",
            "|72 Dangerous Anim...|              Nature|              nature|2017-12-22|1 season, 12 epis...|            1|            12|41–46 min.|       41|       46|     Ended|     0|     DocuSeries|   English| 2021-03-16|\n",
            "|A Little Help wit...|        Variety show|        variety,show|2018-05-04|1 season, 12 epis...|            1|            12|21–29 min.|       21|       29|     Ended|     0|    VarietyTalk|   English| 2021-03-16|\n",
            "|A Series of Unfor...|Black-comedy mystery|black-comedy,mystery|2017-01-13|3 seasons, 25 epi...|            3|            25|36–64 min.|       36|       64|     Ended|     0|          Drama|   English| 2021-03-16|\n",
            "|A.I.C.O. -Incarna...|     Science fiction|     science-fiction|2018-03-09|1 season, 12 epis...|            1|            12|25–29 min.|       25|       29|     Ended|     0|          Anime|   English| 2021-03-16|\n",
            "|Abstract: The Art...|           Biography|           biography|2017-02-10|1 season, 8 episodes|            1|             8|41–48 min.|       41|       48|     Ended|     0|     DocuSeries|   English| 2021-03-16|\n",
            "|           Afflicted|         Docu-series|         docu-series|2018-08-10|1 season, 7 episodes|            1|             7|37–46 min.|       37|       46|   Pending|     1|     DocuSeries|   English| 2021-03-16|\n",
            "|          After Life|              Comedy|              comedy|2019-03-08|1 season, 6 episodes|            1|             6|25–31 min.|       25|       31|   Renewed|     1|         Comedy|   English| 2021-03-16|\n",
            "|          Aggretsuko|              Comedy|              comedy|2018-04-20|2 seasons, 20 epi...|            2|            20|15–20 min.|       15|       20|   Pending|     1|          Anime|   English| 2021-03-16|\n",
            "|       Alexa & Katie|              Sitcom|              sitcom|2018-03-23|2 seasons, 23 epi...|            2|            23|22–30 min.|       22|       30|   Renewed|     1|       Children|   English| 2021-03-16|\n",
            "|All About the Was...|              Comedy|              comedy|2018-08-10|1 season, 10 epis...|            1|            10|22–27 min.|       22|       27|     Ended|     0|         Comedy|   English| 2021-03-16|\n",
            "|All Hail King Julien| childrens-animation| childrens-animation|2014-12-19|5 seasons, 65 epi...|            5|            65|   23 min.|       23|       23|     Ended|     0|       Children|   English| 2021-03-16|\n",
            "+--------------------+--------------------+--------------------+----------+--------------------+-------------+--------------+----------+---------+---------+----------+------+---------------+----------+-----------+\n",
            "only showing top 20 rows\n",
            "\n"
          ]
        }
      ]
    },
    {
      "cell_type": "markdown",
      "source": [
        "## 4) Adicionar timestamp"
      ],
      "metadata": {
        "id": "BGwN3D2vs-ae"
      }
    },
    {
      "cell_type": "code",
      "source": [
        "from pyspark.sql.functions import current_timestamp"
      ],
      "metadata": {
        "id": "Wsr7zoCFtN0g"
      },
      "execution_count": 126,
      "outputs": []
    },
    {
      "cell_type": "code",
      "source": [
        "confitec_timestamp = confitec_seasons\\\n",
        "                .withColumn(\"Data de Alteração\", current_timestamp())"
      ],
      "metadata": {
        "id": "4hQLImpgtCNm"
      },
      "execution_count": 127,
      "outputs": []
    },
    {
      "cell_type": "code",
      "source": [
        "confitec_timestamp.show(5)"
      ],
      "metadata": {
        "colab": {
          "base_uri": "https://localhost:8080/"
        },
        "id": "jkumXXZKtcVa",
        "outputId": "bcb9cf79-53e7-42a0-fcc6-d12536050ac2"
      },
      "execution_count": 128,
      "outputs": [
        {
          "output_type": "stream",
          "name": "stdout",
          "text": [
            "+--------------------+------------------+------------------+----------+--------------------+-------------+--------------+----------+---------+---------+----------+------+---------------+----------+-----------+--------------------+\n",
            "|               Title|             Genre|       GenreLabels|  Premiere|             Seasons|SeasonsParsed|EpisodesParsed|    Length|MinLength|MaxLength|    Status|Active|          Table|  Language|dt_inclusao|   Data de Alteração|\n",
            "+--------------------+------------------+------------------+----------+--------------------+-------------+--------------+----------+---------+---------+----------+------+---------------+----------+-----------+--------------------+\n",
            "|                0.03|   Science fiction|   science-fiction|2016-11-25|3 seasons, 26 epi...|            3|            26|38–51 min.|       38|       51|   Pending|     1|ForeignLanguage|Portuguese| 2021-03-16|2023-05-14 19:21:...|\n",
            "|      13 Reasons Why|Teen drama/mystery|teen,drama,mystery|2017-03-31|2 seasons, 26 epi...|            2|            26|49–70 min.|       49|       70|   Renewed|     1|          Drama|   English| 2021-03-16|2023-05-14 19:21:...|\n",
            "|13 Reasons Why: B...|         Interview|         interview|2017-03-31|2 seasons, 2 epis...|            2|             2|29–67 min.|       29|       67|   Pending|     1|     DocuSeries|   English| 2021-03-16|2023-05-14 19:21:...|\n",
            "|                1983|      Spy thriller|      spy,thriller|2018-11-30|1 season, 8 episodes|            1|             8|50–63 min.|       50|       63|   Renewed|     1|ForeignLanguage|    Polish| 2021-03-16|2023-05-14 19:21:...|\n",
            "|                1994|       Docu-series|       docu-series|2019-05-17|          5 episodes|            0|             5|44–52 min.|       44|       52|Miniseries|     0|     DocuSeries|   English| 2021-03-16|2023-05-14 19:21:...|\n",
            "+--------------------+------------------+------------------+----------+--------------------+-------------+--------------+----------+---------+---------+----------+------+---------------+----------+-----------+--------------------+\n",
            "only showing top 5 rows\n",
            "\n"
          ]
        }
      ]
    },
    {
      "cell_type": "markdown",
      "source": [
        "## 5) Traduzir colunas"
      ],
      "metadata": {
        "id": "8bwt_lMbtsDf"
      }
    },
    {
      "cell_type": "code",
      "source": [
        "confitec_timestamp.printSchema()"
      ],
      "metadata": {
        "colab": {
          "base_uri": "https://localhost:8080/"
        },
        "id": "1fsruH1CtwmU",
        "outputId": "4290f3d9-71bd-45af-d2ab-10254cb22ad1"
      },
      "execution_count": 129,
      "outputs": [
        {
          "output_type": "stream",
          "name": "stdout",
          "text": [
            "root\n",
            " |-- Title: string (nullable = true)\n",
            " |-- Genre: string (nullable = true)\n",
            " |-- GenreLabels: string (nullable = true)\n",
            " |-- Premiere: date (nullable = true)\n",
            " |-- Seasons: string (nullable = true)\n",
            " |-- SeasonsParsed: long (nullable = true)\n",
            " |-- EpisodesParsed: long (nullable = true)\n",
            " |-- Length: string (nullable = true)\n",
            " |-- MinLength: long (nullable = true)\n",
            " |-- MaxLength: long (nullable = true)\n",
            " |-- Status: string (nullable = true)\n",
            " |-- Active: long (nullable = true)\n",
            " |-- Table: string (nullable = true)\n",
            " |-- Language: string (nullable = true)\n",
            " |-- dt_inclusao: date (nullable = true)\n",
            " |-- Data de Alteração: timestamp (nullable = false)\n",
            "\n"
          ]
        }
      ]
    },
    {
      "cell_type": "code",
      "source": [
        "confitec_ptbr = confitec_timestamp\\\n",
        "            .withColumnRenamed('Title', 'Título')\\\n",
        "            .withColumnRenamed('Genre', 'Gênero')\\\n",
        "            .withColumnRenamed('GenreLabels', 'EtiquetasDeGênero')\\\n",
        "            .withColumnRenamed('Premiere', 'Data de Lançamento')\\\n",
        "            .withColumnRenamed('Seasons', 'Temporadas')\\\n",
        "            .withColumnRenamed('SeasonsParsed', 'TemporadasAnalisadas')\\\n",
        "            .withColumnRenamed('EpisodesParsed', 'EpisódiosAnalisados')\\\n",
        "            .withColumnRenamed('Length', 'Duração')\\\n",
        "            .withColumnRenamed('MinLength', 'DuraçãoMínima')\\\n",
        "            .withColumnRenamed('MaxLength', 'DuraçãoMáxima')\\\n",
        "            .withColumnRenamed('Status', 'Condição')\\\n",
        "            .withColumnRenamed('Active', 'Ativo')\\\n",
        "            .withColumnRenamed('Table', 'Tabela')\\\n",
        "            .withColumnRenamed('Language', 'Língua')"
      ],
      "metadata": {
        "id": "MJV5wgrDt05b"
      },
      "execution_count": 131,
      "outputs": []
    },
    {
      "cell_type": "code",
      "source": [
        "confitec_ptbr.printSchema()"
      ],
      "metadata": {
        "colab": {
          "base_uri": "https://localhost:8080/"
        },
        "id": "8-XkudOSvo4q",
        "outputId": "3fb27da4-e547-42d7-c88c-8514a66afe26"
      },
      "execution_count": 132,
      "outputs": [
        {
          "output_type": "stream",
          "name": "stdout",
          "text": [
            "root\n",
            " |-- Título: string (nullable = true)\n",
            " |-- Gênero: string (nullable = true)\n",
            " |-- EtiquetasDeGênero: string (nullable = true)\n",
            " |-- Data de Lançamento: date (nullable = true)\n",
            " |-- Temporadas: string (nullable = true)\n",
            " |-- TemporadasAnalisadas: long (nullable = true)\n",
            " |-- EpisódiosAnalisados: long (nullable = true)\n",
            " |-- Duração: string (nullable = true)\n",
            " |-- DuraçãoMínima: long (nullable = true)\n",
            " |-- DuraçãoMáxima: long (nullable = true)\n",
            " |-- Condição: string (nullable = true)\n",
            " |-- Ativo: long (nullable = true)\n",
            " |-- Tabela: string (nullable = true)\n",
            " |-- Língua: string (nullable = true)\n",
            " |-- dt_inclusao: date (nullable = true)\n",
            " |-- Data de Alteração: timestamp (nullable = false)\n",
            "\n"
          ]
        }
      ]
    },
    {
      "cell_type": "markdown",
      "source": [
        "## 6) Escrever um CSV"
      ],
      "metadata": {
        "id": "ASZM5ORqv3J1"
      }
    },
    {
      "cell_type": "code",
      "source": [
        "confitec_ptbr.coalesce(1).write.csv(\n",
        "    path='/content/drive/MyDrive/confitec/csv',\n",
        "    mode='overwrite',\n",
        "    sep=';',\n",
        "    header=True\n",
        ")"
      ],
      "metadata": {
        "id": "pZCM2CWov7wR"
      },
      "execution_count": 134,
      "outputs": []
    },
    {
      "cell_type": "markdown",
      "source": [
        "## 7) Bucket da Amazon"
      ],
      "metadata": {
        "id": "F6rskImyxfla"
      }
    },
    {
      "cell_type": "code",
      "source": [
        "# como não tenho um bucket da amazon devo supor que seja algo assim\n",
        "filepath = 'bucket_confitec/testes/csv'\n",
        "confitec_ptbr.coalesce(1).write.format('csv').option('header','true',sep=';').mode(\"append\").save(\"s3://{filepath}\")"
      ],
      "metadata": {
        "id": "hjesrYxnxlTz"
      },
      "execution_count": null,
      "outputs": []
    },
    {
      "cell_type": "markdown",
      "source": [
        "# Teste 2"
      ],
      "metadata": {
        "id": "Vz8Gd-H-zsLx"
      }
    },
    {
      "cell_type": "code",
      "source": [
        "!pip install numpy"
      ],
      "metadata": {
        "colab": {
          "base_uri": "https://localhost:8080/"
        },
        "id": "G6UBiATCzv3r",
        "outputId": "b695098e-95d2-46ce-f1b8-bbbf7a5fe745"
      },
      "execution_count": 142,
      "outputs": [
        {
          "output_type": "stream",
          "name": "stdout",
          "text": [
            "Looking in indexes: https://pypi.org/simple, https://us-python.pkg.dev/colab-wheels/public/simple/\n",
            "Requirement already satisfied: numpy in /usr/local/lib/python3.10/dist-packages (1.22.4)\n"
          ]
        }
      ]
    },
    {
      "cell_type": "code",
      "source": [
        "import numpy as np"
      ],
      "metadata": {
        "id": "l1C4V7KW0ISC"
      },
      "execution_count": 143,
      "outputs": []
    },
    {
      "cell_type": "code",
      "source": [
        "matrix_a = np.random.randint(0, 100, (4, 4))\n",
        "matrix_b = np.random.randint(0, 100, (4, 4))"
      ],
      "metadata": {
        "id": "RUVnfpsI0Nfn"
      },
      "execution_count": 145,
      "outputs": []
    },
    {
      "cell_type": "code",
      "source": [
        "m_produto = np.matmul(matrix_a, matrix_b)"
      ],
      "metadata": {
        "id": "-gV_3wHM0-bS"
      },
      "execution_count": 146,
      "outputs": []
    },
    {
      "cell_type": "code",
      "source": [
        "produto = [[0,0,0,0],\n",
        "         [0,0,0,0],\n",
        "         [0,0,0,0],\n",
        "         [0,0,0,0]]"
      ],
      "metadata": {
        "id": "8rpwne3q2D0j"
      },
      "execution_count": 149,
      "outputs": []
    },
    {
      "cell_type": "code",
      "source": [
        "# sem numpy\n",
        "for i in range(len(matrix_a)):\n",
        "   for j in range(len(matrix_b[0])):\n",
        "       for k in range(len(matrix_b)):\n",
        "           produto[i][j] += matrix_a[i][k] * matrix_b[k][j]"
      ],
      "metadata": {
        "id": "_GT1mvcT11FV"
      },
      "execution_count": 150,
      "outputs": []
    },
    {
      "cell_type": "code",
      "source": [
        "print(f'Matriz A: {matrix_a}')\n",
        "print(f'Matriz B: {matrix_b}')\n",
        "print(f'Matriz Produto: {m_produto}')\n",
        "print(f'Produto: {produto}')"
      ],
      "metadata": {
        "colab": {
          "base_uri": "https://localhost:8080/"
        },
        "id": "r-u-ODHP1TNv",
        "outputId": "3700edf0-dfc2-4b14-a6dd-0b764809bae3"
      },
      "execution_count": 151,
      "outputs": [
        {
          "output_type": "stream",
          "name": "stdout",
          "text": [
            "Matriz A: [[23 86 43 16]\n",
            " [29  5 18  8]\n",
            " [18 89 16 31]\n",
            " [88 75 46 47]]\n",
            "Matriz B: [[78 59 26 35]\n",
            " [93 73 90  5]\n",
            " [68 46 53 94]\n",
            " [73 15 10 39]]\n",
            "Matriz Produto: [[13884  9853 10777  5901]\n",
            " [ 4535  3024  2238  3044]\n",
            " [13032  8760  9636  3788]\n",
            " [20398 13488 11946  9612]]\n",
            "Produto: [[13884, 9853, 10777, 5901], [4535, 3024, 2238, 3044], [13032, 8760, 9636, 3788], [20398, 13488, 11946, 9612]]\n"
          ]
        }
      ]
    }
  ]
}